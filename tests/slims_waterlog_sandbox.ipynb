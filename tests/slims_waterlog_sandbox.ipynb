{
 "cells": [
  {
   "cell_type": "code",
   "execution_count": 1,
   "id": "9eb97d49-22f4-4229-a3e7-75c3d80962bc",
   "metadata": {},
   "outputs": [
    {
     "name": "stdout",
     "output_type": "stream",
     "text": [
      "env: AIBS_RIG_ID=NP1\n"
     ]
    }
   ],
   "source": [
    "%env AIBS_RIG_ID=NP1\n",
    "# for testing"
   ]
  },
  {
   "cell_type": "code",
   "execution_count": 2,
   "id": "9ebf0853",
   "metadata": {},
   "outputs": [
    {
     "name": "stderr",
     "output_type": "stream",
     "text": [
      "Connection dropped: socket connection error: None\n",
      "Failed connecting to Zookeeper within the connection retry policy.\n",
      "usage: ping [-AaDdfnoQqRrv] [-c count] [-G sweepmaxsize]\n",
      "            [-g sweepminsize] [-h sweepincrsize] [-i wait]\n",
      "            [-l preload] [-M mask | time] [-m ttl] [-p pattern]\n",
      "            [-S src_addr] [-s packetsize] [-t timeout][-W waittime]\n",
      "            [-z tos] host\n",
      "       ping [-AaDdfLnoQqRrv] [-c count] [-I iface] [-i wait]\n",
      "            [-l preload] [-M mask | time] [-m ttl] [-p pattern] [-S src_addr]\n",
      "            [-s packetsize] [-T ttl] [-t timeout] [-W waittime]\n",
      "            [-z tos] mcast-group\n",
      "Apple specific options (to be specified before mcast-group or host like all options)\n",
      "            -b boundif           # bind the socket to the interface\n",
      "            -k traffic_class     # set traffic class socket option\n",
      "            -K net_service_type  # set traffic class socket options\n",
      "            --apple-connect       # call connect(2) in the socket\n",
      "            --apple-time          # display current time\n",
      "Connection dropped: socket connection error: None\n",
      "Failed connecting to Zookeeper within the connection retry policy.\n",
      "usage: ping [-AaDdfnoQqRrv] [-c count] [-G sweepmaxsize]\n",
      "            [-g sweepminsize] [-h sweepincrsize] [-i wait]\n",
      "            [-l preload] [-M mask | time] [-m ttl] [-p pattern]\n",
      "            [-S src_addr] [-s packetsize] [-t timeout][-W waittime]\n",
      "            [-z tos] host\n",
      "       ping [-AaDdfLnoQqRrv] [-c count] [-I iface] [-i wait]\n",
      "            [-l preload] [-M mask | time] [-m ttl] [-p pattern] [-S src_addr]\n",
      "            [-s packetsize] [-T ttl] [-t timeout] [-W waittime]\n",
      "            [-z tos] mcast-group\n",
      "Apple specific options (to be specified before mcast-group or host like all options)\n",
      "            -b boundif           # bind the socket to the interface\n",
      "            -k traffic_class     # set traffic class socket option\n",
      "            -K net_service_type  # set traffic class socket options\n",
      "            --apple-connect       # call connect(2) in the socket\n",
      "            --apple-time          # display current time\n",
      "Connection dropped: socket connection error: None\n",
      "Failed connecting to Zookeeper within the connection retry policy.\n",
      "usage: ping [-AaDdfnoQqRrv] [-c count] [-G sweepmaxsize]\n",
      "            [-g sweepminsize] [-h sweepincrsize] [-i wait]\n",
      "            [-l preload] [-M mask | time] [-m ttl] [-p pattern]\n",
      "            [-S src_addr] [-s packetsize] [-t timeout][-W waittime]\n",
      "            [-z tos] host\n",
      "       ping [-AaDdfLnoQqRrv] [-c count] [-I iface] [-i wait]\n",
      "            [-l preload] [-M mask | time] [-m ttl] [-p pattern] [-S src_addr]\n",
      "            [-s packetsize] [-T ttl] [-t timeout] [-W waittime]\n",
      "            [-z tos] mcast-group\n",
      "Apple specific options (to be specified before mcast-group or host like all options)\n",
      "            -b boundif           # bind the socket to the interface\n",
      "            -k traffic_class     # set traffic class socket option\n",
      "            -K net_service_type  # set traffic class socket options\n",
      "            --apple-connect       # call connect(2) in the socket\n",
      "            --apple-time          # display current time\n"
     ]
    },
    {
     "ename": "ConnectionError",
     "evalue": "Zookeeper server is unreachable: eng-mindscope.corp.alleninstitute.org",
     "output_type": "error",
     "traceback": [
      "\u001b[0;31m---------------------------------------------------------------------------\u001b[0m",
      "\u001b[0;31mKazooTimeoutError\u001b[0m                         Traceback (most recent call last)",
      "File \u001b[0;32m~/Documents/git-ur-shit/np_workflows/.venv/lib/python3.11/site-packages/np_config/config.py:325\u001b[0m, in \u001b[0;36mConfigZK.__enter__\u001b[0;34m(self)\u001b[0m\n\u001b[1;32m    324\u001b[0m \u001b[39mtry\u001b[39;00m:\n\u001b[0;32m--> 325\u001b[0m     \u001b[39mself\u001b[39;49m\u001b[39m.\u001b[39;49mstart(timeout\u001b[39m=\u001b[39;49m\u001b[39m10\u001b[39;49m)\n\u001b[1;32m    326\u001b[0m \u001b[39mexcept\u001b[39;00m \u001b[39mException\u001b[39;00m \u001b[39mas\u001b[39;00m exc:\n",
      "File \u001b[0;32m~/Documents/git-ur-shit/np_workflows/.venv/lib/python3.11/site-packages/kazoo/client.py:635\u001b[0m, in \u001b[0;36mKazooClient.start\u001b[0;34m(self, timeout)\u001b[0m\n\u001b[1;32m    634\u001b[0m     \u001b[39mself\u001b[39m\u001b[39m.\u001b[39mclose()\n\u001b[0;32m--> 635\u001b[0m     \u001b[39mraise\u001b[39;00m \u001b[39mself\u001b[39m\u001b[39m.\u001b[39mhandler\u001b[39m.\u001b[39mtimeout_exception(\u001b[39m\"\u001b[39m\u001b[39mConnection time-out\u001b[39m\u001b[39m\"\u001b[39m)\n\u001b[1;32m    637\u001b[0m \u001b[39mif\u001b[39;00m \u001b[39mself\u001b[39m\u001b[39m.\u001b[39mchroot \u001b[39mand\u001b[39;00m \u001b[39mnot\u001b[39;00m \u001b[39mself\u001b[39m\u001b[39m.\u001b[39mexists(\u001b[39m\"\u001b[39m\u001b[39m/\u001b[39m\u001b[39m\"\u001b[39m):\n",
      "\u001b[0;31mKazooTimeoutError\u001b[0m: Connection time-out",
      "\nThe above exception was the direct cause of the following exception:\n",
      "\u001b[0;31mConnectionError\u001b[0m                           Traceback (most recent call last)",
      "\u001b[1;32m/Users/chrism/Documents/git-ur-shit/np_workflows/tests/slims_waterlog_sandbox.ipynb Cell 2\u001b[0m line \u001b[0;36m5\n\u001b[1;32m      <a href='vscode-notebook-cell:/Users/chrism/Documents/git-ur-shit/np_workflows/tests/slims_waterlog_sandbox.ipynb#W1sZmlsZQ%3D%3D?line=2'>3</a>\u001b[0m \u001b[39mimport\u001b[39;00m \u001b[39mos\u001b[39;00m\n\u001b[1;32m      <a href='vscode-notebook-cell:/Users/chrism/Documents/git-ur-shit/np_workflows/tests/slims_waterlog_sandbox.ipynb#W1sZmlsZQ%3D%3D?line=3'>4</a>\u001b[0m \u001b[39mimport\u001b[39;00m \u001b[39mdotenv\u001b[39;00m\n\u001b[0;32m----> <a href='vscode-notebook-cell:/Users/chrism/Documents/git-ur-shit/np_workflows/tests/slims_waterlog_sandbox.ipynb#W1sZmlsZQ%3D%3D?line=4'>5</a>\u001b[0m \u001b[39mimport\u001b[39;00m \u001b[39mnp_workflows\u001b[39;00m\n\u001b[1;32m      <a href='vscode-notebook-cell:/Users/chrism/Documents/git-ur-shit/np_workflows/tests/slims_waterlog_sandbox.ipynb#W1sZmlsZQ%3D%3D?line=5'>6</a>\u001b[0m \u001b[39mimport\u001b[39;00m \u001b[39mdatetime\u001b[39;00m\n\u001b[1;32m      <a href='vscode-notebook-cell:/Users/chrism/Documents/git-ur-shit/np_workflows/tests/slims_waterlog_sandbox.ipynb#W1sZmlsZQ%3D%3D?line=6'>7</a>\u001b[0m \u001b[39mfrom\u001b[39;00m \u001b[39maind_slims_api\u001b[39;00m \u001b[39mimport\u001b[39;00m SlimsClient\n",
      "File \u001b[0;32m~/Documents/git-ur-shit/np_workflows/src/np_workflows/__init__.py:1\u001b[0m\n\u001b[0;32m----> 1\u001b[0m \u001b[39mimport\u001b[39;00m \u001b[39mnp_workflows\u001b[39;00m\u001b[39m.\u001b[39;00m\u001b[39mshared\u001b[39;00m\u001b[39m.\u001b[39;00m\u001b[39mnpxc\u001b[39;00m \u001b[39mas\u001b[39;00m \u001b[39mnpxc\u001b[39;00m\n\u001b[1;32m      2\u001b[0m \u001b[39mimport\u001b[39;00m \u001b[39mnp_workflows\u001b[39;00m\u001b[39m.\u001b[39;00m\u001b[39mshared\u001b[39;00m\u001b[39m.\u001b[39;00m\u001b[39mwidgets\u001b[39;00m \u001b[39mas\u001b[39;00m \u001b[39mwidgets\u001b[39;00m\n\u001b[1;32m      3\u001b[0m \u001b[39mimport\u001b[39;00m \u001b[39mnp_workflows\u001b[39;00m\u001b[39m.\u001b[39;00m\u001b[39mshared\u001b[39;00m\u001b[39m.\u001b[39;00m\u001b[39mbase_experiments\u001b[39;00m \u001b[39mas\u001b[39;00m \u001b[39mbase_experiments\u001b[39;00m\n",
      "File \u001b[0;32m~/Documents/git-ur-shit/np_workflows/src/np_workflows/shared/__init__.py:1\u001b[0m\n\u001b[0;32m----> 1\u001b[0m \u001b[39mfrom\u001b[39;00m \u001b[39mnp_workflows\u001b[39;00m\u001b[39m.\u001b[39;00m\u001b[39mshared\u001b[39;00m\u001b[39m.\u001b[39;00m\u001b[39mbase_experiments\u001b[39;00m \u001b[39mimport\u001b[39;00m \u001b[39m*\u001b[39m\n\u001b[1;32m      2\u001b[0m \u001b[39mfrom\u001b[39;00m \u001b[39mnp_workflows\u001b[39;00m\u001b[39m.\u001b[39;00m\u001b[39mshared\u001b[39;00m\u001b[39m.\u001b[39;00m\u001b[39mnpxc\u001b[39;00m \u001b[39mimport\u001b[39;00m \u001b[39m*\u001b[39m\n\u001b[1;32m      3\u001b[0m \u001b[39mfrom\u001b[39;00m \u001b[39mnp_workflows\u001b[39;00m\u001b[39m.\u001b[39;00m\u001b[39mshared\u001b[39;00m\u001b[39m.\u001b[39;00m\u001b[39mwidgets\u001b[39;00m \u001b[39mimport\u001b[39;00m \u001b[39m*\u001b[39m\n",
      "File \u001b[0;32m~/Documents/git-ur-shit/np_workflows/src/np_workflows/shared/base_experiments.py:18\u001b[0m\n\u001b[1;32m     16\u001b[0m \u001b[39mimport\u001b[39;00m \u001b[39mnp_config\u001b[39;00m\n\u001b[1;32m     17\u001b[0m \u001b[39mimport\u001b[39;00m \u001b[39mnp_logging\u001b[39;00m\n\u001b[0;32m---> 18\u001b[0m \u001b[39mimport\u001b[39;00m \u001b[39mnp_services\u001b[39;00m\n\u001b[1;32m     19\u001b[0m \u001b[39mimport\u001b[39;00m \u001b[39mnp_session\u001b[39;00m\n\u001b[1;32m     20\u001b[0m \u001b[39mimport\u001b[39;00m \u001b[39mupath\u001b[39;00m\n",
      "File \u001b[0;32m~/Documents/git-ur-shit/np_workflows/.venv/lib/python3.11/site-packages/np_services/__init__.py:2\u001b[0m\n\u001b[1;32m      1\u001b[0m \u001b[39mimport\u001b[39;00m \u001b[39mnp_services\u001b[39;00m\u001b[39m.\u001b[39;00m\u001b[39mopen_ephys\u001b[39;00m \u001b[39mas\u001b[39;00m \u001b[39mOpenEphys\u001b[39;00m\n\u001b[0;32m----> 2\u001b[0m \u001b[39mfrom\u001b[39;00m \u001b[39mnp_services\u001b[39;00m\u001b[39m.\u001b[39;00m\u001b[39mstim_computer_theme_changer\u001b[39;00m \u001b[39mimport\u001b[39;00m \u001b[39m*\u001b[39m\n\u001b[1;32m      3\u001b[0m \u001b[39mfrom\u001b[39;00m \u001b[39mnp_services\u001b[39;00m\u001b[39m.\u001b[39;00m\u001b[39mprotocols\u001b[39;00m \u001b[39mimport\u001b[39;00m \u001b[39m*\u001b[39m\n\u001b[1;32m      4\u001b[0m \u001b[39mtry\u001b[39;00m:\n",
      "File \u001b[0;32m~/Documents/git-ur-shit/np_workflows/.venv/lib/python3.11/site-packages/np_services/stim_computer_theme_changer.py:7\u001b[0m\n\u001b[1;32m      4\u001b[0m \u001b[39mimport\u001b[39;00m \u001b[39mfabric\u001b[39;00m\n\u001b[1;32m      5\u001b[0m \u001b[39mimport\u001b[39;00m \u001b[39mnp_config\u001b[39;00m\n\u001b[0;32m----> 7\u001b[0m \u001b[39mfrom\u001b[39;00m \u001b[39mnp_services\u001b[39;00m\u001b[39m.\u001b[39;00m\u001b[39mproxies\u001b[39;00m \u001b[39mimport\u001b[39;00m ScriptCamstim\n\u001b[1;32m      9\u001b[0m \u001b[39mclass\u001b[39;00m \u001b[39mDesktopThemeChanger\u001b[39;00m(ScriptCamstim):\n\u001b[1;32m     10\u001b[0m \u001b[39m    \u001b[39m\u001b[39m\"\"\"Base class for setting the background wallpaper on a remote machine,\u001b[39;00m\n\u001b[1;32m     11\u001b[0m \u001b[39m    then hiding all desktop icons, hiding the taskbar, minimizing all windows\"\"\"\u001b[39;00m\n",
      "File \u001b[0;32m~/Documents/git-ur-shit/np_workflows/.venv/lib/python3.11/site-packages/np_services/proxies.py:28\u001b[0m\n\u001b[1;32m     26\u001b[0m \u001b[39mimport\u001b[39;00m \u001b[39mnpc_sync\u001b[39;00m\n\u001b[1;32m     27\u001b[0m \u001b[39mimport\u001b[39;00m \u001b[39mnpc_mvr\u001b[39;00m\n\u001b[0;32m---> 28\u001b[0m \u001b[39mimport\u001b[39;00m \u001b[39mnp_tools\u001b[39;00m\n\u001b[1;32m     29\u001b[0m \u001b[39mimport\u001b[39;00m \u001b[39myaml\u001b[39;00m\n\u001b[1;32m     30\u001b[0m \u001b[39mimport\u001b[39;00m \u001b[39mpandas\u001b[39;00m \u001b[39mas\u001b[39;00m \u001b[39mpd\u001b[39;00m\n",
      "File \u001b[0;32m~/Documents/git-ur-shit/np_workflows/.venv/lib/python3.11/site-packages/np_tools/__init__.py:1\u001b[0m\n\u001b[0;32m----> 1\u001b[0m \u001b[39mfrom\u001b[39;00m \u001b[39mnp_tools\u001b[39;00m\u001b[39m.\u001b[39;00m\u001b[39mremote\u001b[39;00m \u001b[39mimport\u001b[39;00m \u001b[39m*\u001b[39m\n\u001b[1;32m      2\u001b[0m \u001b[39mfrom\u001b[39;00m \u001b[39mnp_tools\u001b[39;00m\u001b[39m.\u001b[39;00m\u001b[39mfile_io\u001b[39;00m \u001b[39mimport\u001b[39;00m \u001b[39m*\u001b[39m\n\u001b[1;32m      3\u001b[0m \u001b[39mfrom\u001b[39;00m \u001b[39mnp_tools\u001b[39;00m\u001b[39m.\u001b[39;00m\u001b[39mopenephys\u001b[39;00m \u001b[39mimport\u001b[39;00m \u001b[39m*\u001b[39m\n",
      "File \u001b[0;32m~/Documents/git-ur-shit/np_workflows/.venv/lib/python3.11/site-packages/np_tools/remote.py:15\u001b[0m\n\u001b[1;32m     13\u001b[0m \u001b[39mimport\u001b[39;00m \u001b[39mnp_config\u001b[39;00m\n\u001b[1;32m     14\u001b[0m \u001b[39mimport\u001b[39;00m \u001b[39mnp_logging\u001b[39;00m\n\u001b[0;32m---> 15\u001b[0m \u001b[39mfrom\u001b[39;00m \u001b[39mnp_tools\u001b[39;00m\u001b[39m.\u001b[39;00m\u001b[39mconfig\u001b[39;00m \u001b[39mimport\u001b[39;00m ON_WINDOWS\n\u001b[1;32m     16\u001b[0m \u001b[39mfrom\u001b[39;00m \u001b[39mtyping_extensions\u001b[39;00m \u001b[39mimport\u001b[39;00m Literal\n\u001b[1;32m     18\u001b[0m logger \u001b[39m=\u001b[39m np_logging\u001b[39m.\u001b[39mget_logger(\u001b[39m__name__\u001b[39m)\n",
      "File \u001b[0;32m~/Documents/git-ur-shit/np_workflows/.venv/lib/python3.11/site-packages/np_tools/config.py:8\u001b[0m\n\u001b[1;32m      4\u001b[0m \u001b[39mimport\u001b[39;00m \u001b[39mnp_logging\u001b[39;00m\n\u001b[1;32m      6\u001b[0m logger \u001b[39m=\u001b[39m np_logging\u001b[39m.\u001b[39mget_logger(\u001b[39m__name__\u001b[39m)\n\u001b[0;32m----> 8\u001b[0m CONFIG: \u001b[39mdict\u001b[39m \u001b[39m=\u001b[39m np_config\u001b[39m.\u001b[39;49mfetch(\u001b[39m'\u001b[39;49m\u001b[39m/projects/np_tools/config\u001b[39;49m\u001b[39m'\u001b[39;49m)\n\u001b[1;32m      9\u001b[0m \u001b[39m\"\"\"Package config dict with paths etc.\"\"\"\u001b[39;00m\n\u001b[1;32m     11\u001b[0m ON_WINDOWS: \u001b[39mbool\u001b[39m \u001b[39m=\u001b[39m os\u001b[39m.\u001b[39mname \u001b[39m==\u001b[39m \u001b[39m'\u001b[39m\u001b[39mnt\u001b[39m\u001b[39m'\u001b[39m\n",
      "File \u001b[0;32m~/Documents/git-ur-shit/np_workflows/.venv/lib/python3.11/site-packages/np_config/config.py:141\u001b[0m, in \u001b[0;36mfetch\u001b[0;34m(arg, **kwargs)\u001b[0m\n\u001b[1;32m    138\u001b[0m     \u001b[39melif\u001b[39;00m \u001b[39misinstance\u001b[39m(arg, \u001b[39mstr\u001b[39m):\n\u001b[1;32m    139\u001b[0m         \u001b[39m# likely a ZK path\u001b[39;00m\n\u001b[1;32m    140\u001b[0m         path_str \u001b[39m=\u001b[39m normalize_zk_path(arg)\n\u001b[0;32m--> 141\u001b[0m         config \u001b[39m=\u001b[39m from_zk(path_str, \u001b[39m*\u001b[39;49m\u001b[39m*\u001b[39;49mkwargs)\n\u001b[1;32m    142\u001b[0m \u001b[39melse\u001b[39;00m:\n\u001b[1;32m    143\u001b[0m     \u001b[39mraise\u001b[39;00m \u001b[39mValueError\u001b[39;00m(\n\u001b[1;32m    144\u001b[0m         \u001b[39m\"\u001b[39m\u001b[39mLogging config input should be a path to a .yaml or .json file, a ZooKeeper path, or a python logging config dict.\u001b[39m\u001b[39m\"\u001b[39m\n\u001b[1;32m    145\u001b[0m     )\n",
      "File \u001b[0;32m~/Documents/git-ur-shit/np_workflows/.venv/lib/python3.11/site-packages/np_config/config.py:98\u001b[0m, in \u001b[0;36mfrom_zk\u001b[0;34m(path, **kwargs)\u001b[0m\n\u001b[1;32m     96\u001b[0m \u001b[39mdef\u001b[39;00m \u001b[39mfrom_zk\u001b[39m(path: \u001b[39mstr\u001b[39m, \u001b[39m*\u001b[39m\u001b[39m*\u001b[39mkwargs) \u001b[39m-\u001b[39m\u001b[39m>\u001b[39m \u001b[39mdict\u001b[39m[Any, Any]:\n\u001b[1;32m     97\u001b[0m     \u001b[39m\"\u001b[39m\u001b[39mAccess eng-mindscope Zookeeper, return config dict.\u001b[39m\u001b[39m\"\u001b[39m\n\u001b[0;32m---> 98\u001b[0m     \u001b[39mwith\u001b[39;49;00m ConfigZK(\u001b[39m*\u001b[39;49m\u001b[39m*\u001b[39;49mkwargs) \u001b[39mas\u001b[39;49;00m zk:\n\u001b[1;32m     99\u001b[0m         \u001b[39mreturn\u001b[39;49;00m zk[path]\n",
      "File \u001b[0;32m~/Documents/git-ur-shit/np_workflows/.venv/lib/python3.11/site-packages/np_config/config.py:331\u001b[0m, in \u001b[0;36mConfigZK.__enter__\u001b[0;34m(self)\u001b[0m\n\u001b[1;32m    327\u001b[0m     \u001b[39mif\u001b[39;00m \u001b[39mnot\u001b[39;00m is_connected():\n\u001b[1;32m    328\u001b[0m         logger\u001b[39m.\u001b[39mdebug(\n\u001b[1;32m    329\u001b[0m             \u001b[39m\"\u001b[39m\u001b[39mStarting the Kazoo client failed: \u001b[39m\u001b[39m%s\u001b[39;00m\u001b[39m\"\u001b[39m, \u001b[39mself\u001b[39m\u001b[39m.\u001b[39mhosts, exc_info\u001b[39m=\u001b[39m\u001b[39mTrue\u001b[39;00m\n\u001b[1;32m    330\u001b[0m         )\n\u001b[0;32m--> 331\u001b[0m         \u001b[39mraise\u001b[39;00m \u001b[39mConnectionError\u001b[39;00m(\n\u001b[1;32m    332\u001b[0m             \u001b[39mf\u001b[39m\u001b[39m\"\u001b[39m\u001b[39mZookeeper server is unreachable: \u001b[39m\u001b[39m{\u001b[39;00mMINDSCOPE_SERVER\u001b[39m}\u001b[39;00m\u001b[39m\"\u001b[39m\n\u001b[1;32m    333\u001b[0m         ) \u001b[39mfrom\u001b[39;00m \u001b[39mexc\u001b[39;00m\n\u001b[1;32m    334\u001b[0m     \u001b[39mraise\u001b[39;00m exc\n\u001b[1;32m    335\u001b[0m \u001b[39melse\u001b[39;00m:\n",
      "\u001b[0;31mConnectionError\u001b[0m: Zookeeper server is unreachable: eng-mindscope.corp.alleninstitute.org"
     ]
    }
   ],
   "source": [
    "%load_ext autoreload\n",
    "%autoreload 2\n",
    "import os\n",
    "import dotenv\n",
    "import np_workflows\n",
    "import datetime\n",
    "from aind_slims_api import SlimsClient\n",
    "from aind_slims_api import models\n",
    "\n",
    "dotenv.load_dotenv()\n",
    "\n",
    "np_workflows.quiet_mode_widget()"
   ]
  },
  {
   "cell_type": "code",
   "execution_count": null,
   "id": "f8e9eef8",
   "metadata": {},
   "outputs": [],
   "source": [
    "mouse_id = \"668800\"\n",
    "client = SlimsClient(\n",
    "    base_url=os.getenv('SLIMS_URL'),\n",
    "    username=os.getenv('SLIMS_USERNAME'),\n",
    "    password=os.getenv('SLIMS_PASSWORD'),\n",
    ")"
   ]
  },
  {
   "cell_type": "markdown",
   "id": "668482f3",
   "metadata": {},
   "source": [
    "## Water restrict mouse if not currently water restricted"
   ]
  },
  {
   "cell_type": "code",
   "execution_count": 27,
   "id": "627ffaf5",
   "metadata": {},
   "outputs": [
    {
     "name": "stderr",
     "output_type": "stream",
     "text": [
      "INFO:aind_slims_api.core:SLIMS Add: ContentEvent/145\n"
     ]
    },
    {
     "data": {
      "text/plain": [
       "SlimsWaterRestrictionEvent(pk=145, json_entity={'pk': 145, 'tableName': 'ContentEvent', 'columns': [{'datatype': 'FOREIGN_KEY', 'name': 'cnvn_fk_study', 'title': 'Study', 'position': 0, 'value': None, 'hidden': False, 'editable': True, 'foreignTable': 'Study', 'displayValue': None, 'displayField': 'stud_name', 'foreignDisplayColumn': 'stud_name'}, {'datatype': 'DATE', 'name': 'cnvn_date', 'title': 'Date', 'position': 1, 'value': None, 'hidden': True, 'editable': True, 'dateFormat': 'MM/dd/yyyy HH:mm:ss', 'subType': 'datetime', 'timeZone': 'America/Los_Angeles'}, {'datatype': 'DATE', 'name': 'cnvn_cf_startDate', 'title': 'Start Date', 'position': 2, 'value': 1725606000000, 'hidden': False, 'editable': True, 'dateFormat': 'MM/dd/yyyy', 'subType': 'date', 'timeZone': 'America/Los_Angeles'}, {'datatype': 'DATE', 'name': 'cnvn_dateFrom', 'title': 'From date', 'position': 3, 'value': None, 'hidden': True, 'editable': True, 'dateFormat': 'MM/dd/yyyy HH:mm:ss', 'subType': 'datetime', 'timeZone': 'America/Los_Angeles'}, {'datatype': 'DATE', 'name': 'cnvn_cf_endDate', 'title': 'End Date', 'position': 4, 'value': 1727679600000, 'hidden': False, 'editable': True, 'dateFormat': 'MM/dd/yyyy', 'subType': 'date', 'timeZone': 'America/Los_Angeles'}, {'datatype': 'FOREIGN_KEY', 'name': 'cnvn_fk_contentEventType', 'title': 'Content event type', 'position': 5, 'value': 9, 'hidden': False, 'editable': False, 'foreignTable': 'ContentEventType', 'displayValue': 'Water Restriction', 'displayField': 'cnvt_name', 'foreignDisplayColumn': 'cnvt_name'}, {'datatype': 'DATE', 'name': 'cnvn_dateUntil', 'title': 'Until date', 'position': 6, 'value': None, 'hidden': True, 'editable': True, 'dateFormat': 'MM/dd/yyyy HH:mm:ss', 'subType': 'datetime', 'timeZone': 'America/Los_Angeles'}, {'datatype': 'STRING', 'name': 'cnvn_cf_assignedBy', 'title': 'Assigned By', 'position': 7, 'value': 'mochic', 'hidden': False, 'editable': True}, {'datatype': 'FLOAT', 'name': 'cnvn_cf_targetWeightFraction', 'title': 'Target Weight Fraction', 'position': 8, 'value': 0.9, 'hidden': False, 'editable': True}, {'datatype': 'FOREIGN_KEY', 'name': 'cnvn_fk_content', 'title': 'Content', 'position': 9, 'value': 3180, 'hidden': False, 'editable': True, 'foreignTable': 'Content', 'displayValue': '668800', 'displayField': 'cntn_id', 'foreignDisplayColumn': 'cntn_id'}, {'datatype': 'STRING', 'name': 'cnvn_barCode', 'title': 'Barcode', 'position': 10, 'value': 'CE00000152', 'hidden': False, 'editable': True}, {'datatype': 'FOREIGN_KEY', 'name': 'cnvn_fk_group', 'title': 'Group', 'position': 11, 'value': None, 'hidden': False, 'editable': True, 'foreignTable': 'Groups', 'displayValue': None, 'displayField': 'grps_groupName', 'foreignDisplayColumn': 'grps_groupName'}, {'datatype': 'FOREIGN_KEY', 'name': 'cnvn_fk_experimentRunStep', 'title': 'Experiment run step', 'position': 12, 'value': None, 'hidden': True, 'editable': True, 'foreignTable': 'ExperimentRunStep', 'displayValue': None, 'displayField': 'xprs_name', 'foreignDisplayColumn': 'xprs_name'}, {'datatype': 'STRING', 'name': 'cnvn_createdBy', 'title': 'Created by', 'position': 13, 'value': 'SIPE', 'hidden': False, 'editable': True}, {'datatype': 'DATE', 'name': 'cnvn_createdOn', 'title': 'Created on', 'position': 14, 'value': 1725651672964, 'hidden': False, 'editable': True, 'dateFormat': 'MM/dd/yyyy HH:mm:ss', 'subType': 'datetime', 'timeZone': 'America/Los_Angeles'}, {'datatype': 'STRING', 'name': 'cnvn_modifiedBy', 'title': 'Modified by', 'position': 15, 'value': 'SIPE', 'hidden': False, 'editable': True}, {'datatype': 'DATE', 'name': 'cnvn_modifiedOn', 'title': 'Modified on', 'position': 16, 'value': 1725651672964, 'hidden': False, 'editable': True, 'dateFormat': 'MM/dd/yyyy HH:mm:ss', 'subType': 'datetime', 'timeZone': 'America/Los_Angeles'}, {'datatype': 'INTEGER', 'name': 'cnvn_pk', 'title': 'cnvn_pk', 'position': 17, 'value': 145, 'hidden': True, 'editable': True}, {'datatype': 'FOREIGN_KEY', 'name': 'cnvn_fk_user', 'title': 'User', 'position': 18, 'value': None, 'hidden': True, 'editable': True, 'foreignTable': 'User', 'displayValue': None, 'displayField': 'user_userName', 'foreignDisplayColumn': 'user_userName'}, {'datatype': 'STRING', 'name': 'xprs_name', 'title': 'Name', 'position': 19, 'value': None, 'hidden': True, 'editable': True}, {'datatype': 'STRING', 'name': 'cntn_id', 'title': 'Id', 'position': 20, 'value': '668800', 'hidden': True, 'editable': True}, {'datatype': 'STRING', 'name': 'cnvt_name', 'title': 'Name', 'position': 21, 'value': 'Water Restriction', 'hidden': True, 'editable': True}, {'datatype': 'STRING', 'name': 'stud_name', 'title': 'Name', 'position': 22, 'value': None, 'hidden': True, 'editable': True}], 'canUpdate': True, 'canDelete': True, 'links': [{'rel': 'self', 'href': 'https://aind-test.us.slims.agilent.com/slimsrest/rest/ContentEvent/145'}, {'rel': 'cnvn_fk_contentEventType', 'href': 'https://aind-test.us.slims.agilent.com/slimsrest/rest/ContentEventType/9'}, {'rel': 'cnvn_fk_content', 'href': 'https://aind-test.us.slims.agilent.com/slimsrest/rest/Content/3180'}, {'rel': '-crfr_fk_contentEvent', 'href': 'https://aind-test.us.slims.agilent.com/slimsrest/rest/CaseReportForm?crfr_fk_contentEvent=145'}, {'rel': '-qrcv_fk_contentEvent', 'href': 'https://aind-test.us.slims.agilent.com/slimsrest/rest/QueueElementRequestContentEvent?qrcv_fk_contentEvent=145'}, {'rel': '-wfsf_fk_contentEvent', 'href': 'https://aind-test.us.slims.agilent.com/slimsrest/rest/WorkflowScheduleFlag?wfsf_fk_contentEvent=145'}, {'rel': 'attachments', 'href': 'https://aind-test.us.slims.agilent.com/slimsrest/rest/attachment/ContentEvent/145'}]}, start_date=datetime.datetime(2024, 9, 6, 7, 0, tzinfo=TzInfo(UTC)), end_date=datetime.datetime(2024, 9, 30, 7, 0, tzinfo=TzInfo(UTC)), assigned_by='mochic', target_weight_fraction=0.9, mouse_pk=3180, cnvn_fk_contentEventType=9)"
      ]
     },
     "execution_count": 27,
     "metadata": {},
     "output_type": "execute_result"
    }
   ],
   "source": [
    "mouse = client.fetch_model(models.SlimsMouseContent, barcode=mouse_id)\n",
    "client.add_model(\n",
    "    models.SlimsWaterRestrictionEvent(\n",
    "        mouse_pk=mouse.pk,\n",
    "        start_date=datetime.datetime(2024, 9, 6),\n",
    "        end_date=datetime.datetime(2024, 9, 30),\n",
    "        assigned_by=\"mochic\",\n",
    "        target_weight_fraction=0.90,\n",
    "    )\n",
    ")"
   ]
  },
  {
   "cell_type": "code",
   "execution_count": 3,
   "id": "4cd01038",
   "metadata": {},
   "outputs": [
    {
     "ename": "NameError",
     "evalue": "name 'np_workflows' is not defined",
     "output_type": "error",
     "traceback": [
      "\u001b[0;31m---------------------------------------------------------------------------\u001b[0m",
      "\u001b[0;31mNameError\u001b[0m                                 Traceback (most recent call last)",
      "\u001b[1;32m/Users/chrism/Documents/git-ur-shit/np_workflows/tests/slims_waterlog_sandbox.ipynb Cell 5\u001b[0m line \u001b[0;36m1\n\u001b[0;32m----> <a href='vscode-notebook-cell:/Users/chrism/Documents/git-ur-shit/np_workflows/tests/slims_waterlog_sandbox.ipynb#W3sZmlsZQ%3D%3D?line=0'>1</a>\u001b[0m np_workflows\u001b[39m.\u001b[39mslims_waterlog_widget(\n\u001b[1;32m      <a href='vscode-notebook-cell:/Users/chrism/Documents/git-ur-shit/np_workflows/tests/slims_waterlog_sandbox.ipynb#W3sZmlsZQ%3D%3D?line=1'>2</a>\u001b[0m     SlimsClient(username\u001b[39m=\u001b[39mos\u001b[39m.\u001b[39mgetenv(\u001b[39m'\u001b[39m\u001b[39mSLIMS_USERNAME\u001b[39m\u001b[39m'\u001b[39m), password\u001b[39m=\u001b[39mos\u001b[39m.\u001b[39mgetenv(\u001b[39m'\u001b[39m\u001b[39mSLIMS_PASSWORD\u001b[39m\u001b[39m'\u001b[39m)),\n\u001b[1;32m      <a href='vscode-notebook-cell:/Users/chrism/Documents/git-ur-shit/np_workflows/tests/slims_waterlog_sandbox.ipynb#W3sZmlsZQ%3D%3D?line=2'>3</a>\u001b[0m     mouse_id,\n\u001b[1;32m      <a href='vscode-notebook-cell:/Users/chrism/Documents/git-ur-shit/np_workflows/tests/slims_waterlog_sandbox.ipynb#W3sZmlsZQ%3D%3D?line=3'>4</a>\u001b[0m     os\u001b[39m.\u001b[39mgetenv(\u001b[39m'\u001b[39m\u001b[39mAIBS_RIG_ID\u001b[39m\u001b[39m'\u001b[39m)\n\u001b[1;32m      <a href='vscode-notebook-cell:/Users/chrism/Documents/git-ur-shit/np_workflows/tests/slims_waterlog_sandbox.ipynb#W3sZmlsZQ%3D%3D?line=4'>5</a>\u001b[0m )\n",
      "\u001b[0;31mNameError\u001b[0m: name 'np_workflows' is not defined"
     ]
    }
   ],
   "source": [
    "np_workflows.slims_waterlog_widget(\n",
    "    client,\n",
    "    mouse_id,\n",
    "    os.getenv('AIBS_RIG_ID')\n",
    ")\n"
   ]
  },
  {
   "cell_type": "code",
   "execution_count": null,
   "id": "3c2b0852",
   "metadata": {},
   "outputs": [],
   "source": []
  }
 ],
 "metadata": {
  "kernelspec": {
   "display_name": "Python 3 (ipykernel)",
   "language": "python",
   "name": "python3"
  },
  "language_info": {
   "codemirror_mode": {
    "name": "ipython",
    "version": 3
   },
   "file_extension": ".py",
   "mimetype": "text/x-python",
   "name": "python",
   "nbconvert_exporter": "python",
   "pygments_lexer": "ipython3",
   "version": "3.11.6"
  }
 },
 "nbformat": 4,
 "nbformat_minor": 5
}
