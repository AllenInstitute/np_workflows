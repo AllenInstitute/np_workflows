{
 "cells": [
  {
   "cell_type": "code",
   "execution_count": 1,
   "id": "9eb97d49-22f4-4229-a3e7-75c3d80962bc",
   "metadata": {},
   "outputs": [
    {
     "name": "stdout",
     "output_type": "stream",
     "text": [
      "env: AIBS_RIG_ID=NP1\n"
     ]
    }
   ],
   "source": [
    "%env AIBS_RIG_ID=NP1\n",
    "# for testing"
   ]
  },
  {
   "cell_type": "code",
   "execution_count": 2,
   "id": "9ebf0853",
   "metadata": {},
   "outputs": [
    {
     "data": {
      "application/vnd.jupyter.widget-view+json": {
       "model_id": "60dcd22e419549fbb4de92759d7a4aa2",
       "version_major": 2,
       "version_minor": 0
      },
      "text/plain": [
       "ToggleButton(value=True, button_style='info', description='Quiet mode is on', icon='check', tooltip='Quiet mod…"
      ]
     },
     "metadata": {},
     "output_type": "display_data"
    }
   ],
   "source": [
    "%load_ext autoreload\n",
    "%autoreload 2\n",
    "import os\n",
    "import dotenv\n",
    "import np_workflows\n",
    "import datetime\n",
    "\n",
    "dotenv.load_dotenv(\"../.env\")\n",
    "\n",
    "from aind_slims_api import SlimsClient\n",
    "from aind_slims_api import models\n",
    "\n",
    "np_workflows.quiet_mode_widget()"
   ]
  },
  {
   "cell_type": "code",
   "execution_count": 4,
   "id": "f8e9eef8",
   "metadata": {},
   "outputs": [],
   "source": [
    "mouse_id = \"668800\"\n",
    "client = SlimsClient(\n",
    "    url=os.getenv('SLIMS_URL'),\n",
    "    username=os.getenv('SLIMS_USERNAME'),\n",
    "    password=os.getenv('SLIMS_PASSWORD'),\n",
    ")"
   ]
  },
  {
   "cell_type": "markdown",
   "id": "668482f3",
   "metadata": {},
   "source": [
    "## Water restrict mouse if not currently water restricted"
   ]
  },
  {
   "cell_type": "code",
   "execution_count": 5,
   "id": "627ffaf5",
   "metadata": {},
   "outputs": [
    {
     "name": "stderr",
     "output_type": "stream",
     "text": [
      "INFO:aind_slims_api.core:SLIMS Add: ContentEvent/148\n"
     ]
    },
    {
     "data": {
      "text/plain": [
       "SlimsWaterRestrictionEvent(pk=148, json_entity={'pk': 148, 'tableName': 'ContentEvent', 'columns': [{'datatype': 'FOREIGN_KEY', 'name': 'cnvn_fk_study', 'title': 'Study', 'position': 0, 'value': None, 'hidden': False, 'editable': True, 'foreignTable': 'Study', 'displayValue': None, 'displayField': 'stud_name', 'foreignDisplayColumn': 'stud_name'}, {'datatype': 'DATE', 'name': 'cnvn_date', 'title': 'Date', 'position': 1, 'value': None, 'hidden': True, 'editable': True, 'dateFormat': 'MM/dd/yyyy HH:mm:ss', 'subType': 'datetime', 'timeZone': 'America/Los_Angeles'}, {'datatype': 'DATE', 'name': 'cnvn_cf_startDate', 'title': 'Start Date', 'position': 2, 'value': 1725606000000, 'hidden': False, 'editable': True, 'dateFormat': 'MM/dd/yyyy', 'subType': 'date', 'timeZone': 'America/Los_Angeles'}, {'datatype': 'DATE', 'name': 'cnvn_dateFrom', 'title': 'From date', 'position': 3, 'value': None, 'hidden': True, 'editable': True, 'dateFormat': 'MM/dd/yyyy HH:mm:ss', 'subType': 'datetime', 'timeZone': 'America/Los_Angeles'}, {'datatype': 'DATE', 'name': 'cnvn_cf_endDate', 'title': 'End Date', 'position': 4, 'value': 1727679600000, 'hidden': False, 'editable': True, 'dateFormat': 'MM/dd/yyyy', 'subType': 'date', 'timeZone': 'America/Los_Angeles'}, {'datatype': 'FOREIGN_KEY', 'name': 'cnvn_fk_contentEventType', 'title': 'Content event type', 'position': 5, 'value': 9, 'hidden': False, 'editable': False, 'foreignTable': 'ContentEventType', 'displayValue': 'Water Restriction', 'displayField': 'cnvt_name', 'foreignDisplayColumn': 'cnvt_name'}, {'datatype': 'DATE', 'name': 'cnvn_dateUntil', 'title': 'Until date', 'position': 6, 'value': None, 'hidden': True, 'editable': True, 'dateFormat': 'MM/dd/yyyy HH:mm:ss', 'subType': 'datetime', 'timeZone': 'America/Los_Angeles'}, {'datatype': 'STRING', 'name': 'cnvn_cf_assignedBy', 'title': 'Assigned By', 'position': 7, 'value': 'mochic', 'hidden': False, 'editable': True}, {'datatype': 'FLOAT', 'name': 'cnvn_cf_targetWeightFraction', 'title': 'Target Weight Fraction', 'position': 8, 'value': 0.9, 'hidden': False, 'editable': True}, {'datatype': 'FOREIGN_KEY', 'name': 'cnvn_fk_content', 'title': 'Content', 'position': 9, 'value': 3180, 'hidden': False, 'editable': True, 'foreignTable': 'Content', 'displayValue': '668800', 'displayField': 'cntn_id', 'foreignDisplayColumn': 'cntn_id'}, {'datatype': 'STRING', 'name': 'cnvn_barCode', 'title': 'Barcode', 'position': 10, 'value': 'CE00000155', 'hidden': False, 'editable': True}, {'datatype': 'FOREIGN_KEY', 'name': 'cnvn_fk_group', 'title': 'Group', 'position': 11, 'value': None, 'hidden': False, 'editable': True, 'foreignTable': 'Groups', 'displayValue': None, 'displayField': 'grps_groupName', 'foreignDisplayColumn': 'grps_groupName'}, {'datatype': 'FOREIGN_KEY', 'name': 'cnvn_fk_experimentRunStep', 'title': 'Experiment run step', 'position': 12, 'value': None, 'hidden': True, 'editable': True, 'foreignTable': 'ExperimentRunStep', 'displayValue': None, 'displayField': 'xprs_name', 'foreignDisplayColumn': 'xprs_name'}, {'datatype': 'STRING', 'name': 'cnvn_createdBy', 'title': 'Created by', 'position': 13, 'value': 'SIPE', 'hidden': False, 'editable': True}, {'datatype': 'DATE', 'name': 'cnvn_createdOn', 'title': 'Created on', 'position': 14, 'value': 1725909501033, 'hidden': False, 'editable': True, 'dateFormat': 'MM/dd/yyyy HH:mm:ss', 'subType': 'datetime', 'timeZone': 'America/Los_Angeles'}, {'datatype': 'STRING', 'name': 'cnvn_modifiedBy', 'title': 'Modified by', 'position': 15, 'value': 'SIPE', 'hidden': False, 'editable': True}, {'datatype': 'DATE', 'name': 'cnvn_modifiedOn', 'title': 'Modified on', 'position': 16, 'value': 1725909501033, 'hidden': False, 'editable': True, 'dateFormat': 'MM/dd/yyyy HH:mm:ss', 'subType': 'datetime', 'timeZone': 'America/Los_Angeles'}, {'datatype': 'FOREIGN_KEY', 'name': 'cnvn_fk_user', 'title': 'User', 'position': 17, 'value': None, 'hidden': True, 'editable': True, 'foreignTable': 'User', 'displayValue': None, 'displayField': 'user_userName', 'foreignDisplayColumn': 'user_userName'}, {'datatype': 'STRING', 'name': 'cntn_id', 'title': 'Id', 'position': 18, 'value': '668800', 'hidden': True, 'editable': True}, {'datatype': 'STRING', 'name': 'stud_name', 'title': 'Name', 'position': 19, 'value': None, 'hidden': True, 'editable': True}, {'datatype': 'STRING', 'name': 'xprs_name', 'title': 'Name', 'position': 20, 'value': None, 'hidden': True, 'editable': True}, {'datatype': 'STRING', 'name': 'cnvt_name', 'title': 'Name', 'position': 21, 'value': 'Water Restriction', 'hidden': True, 'editable': True}, {'datatype': 'INTEGER', 'name': 'cnvn_pk', 'title': 'cnvn_pk', 'position': 22, 'value': 148, 'hidden': True, 'editable': True}], 'canUpdate': True, 'canDelete': True, 'links': [{'rel': 'self', 'href': 'https://aind-test.us.slims.agilent.com/slimsrest/rest/ContentEvent/148'}, {'rel': 'cnvn_fk_contentEventType', 'href': 'https://aind-test.us.slims.agilent.com/slimsrest/rest/ContentEventType/9'}, {'rel': 'cnvn_fk_content', 'href': 'https://aind-test.us.slims.agilent.com/slimsrest/rest/Content/3180'}, {'rel': '-crfr_fk_contentEvent', 'href': 'https://aind-test.us.slims.agilent.com/slimsrest/rest/CaseReportForm?crfr_fk_contentEvent=148'}, {'rel': '-qrcv_fk_contentEvent', 'href': 'https://aind-test.us.slims.agilent.com/slimsrest/rest/QueueElementRequestContentEvent?qrcv_fk_contentEvent=148'}, {'rel': '-wfsf_fk_contentEvent', 'href': 'https://aind-test.us.slims.agilent.com/slimsrest/rest/WorkflowScheduleFlag?wfsf_fk_contentEvent=148'}, {'rel': 'attachments', 'href': 'https://aind-test.us.slims.agilent.com/slimsrest/rest/attachment/ContentEvent/148'}]}, start_date=datetime.datetime(2024, 9, 6, 7, 0, tzinfo=TzInfo(UTC)), end_date=datetime.datetime(2024, 9, 30, 7, 0, tzinfo=TzInfo(UTC)), assigned_by='mochic', target_weight_fraction=0.9, mouse_pk=3180, cnvn_fk_contentEventType=9)"
      ]
     },
     "execution_count": 5,
     "metadata": {},
     "output_type": "execute_result"
    }
   ],
   "source": [
    "mouse = client.fetch_model(models.SlimsMouseContent, barcode=mouse_id)\n",
    "client.add_model(\n",
    "    models.SlimsWaterRestrictionEvent(\n",
    "        mouse_pk=mouse.pk,\n",
    "        start_date=datetime.datetime(2024, 9, 6),\n",
    "        end_date=datetime.datetime(2024, 9, 30),\n",
    "        assigned_by=\"mochic\",\n",
    "        target_weight_fraction=0.90,\n",
    "    )\n",
    ")"
   ]
  },
  {
   "cell_type": "code",
   "execution_count": 14,
   "id": "4cd01038",
   "metadata": {},
   "outputs": [
    {
     "data": {
      "application/vnd.jupyter.widget-view+json": {
       "model_id": "569e2bb3953d49f68c868d18eeac1556",
       "version_major": 2,
       "version_minor": 0
      },
      "text/plain": [
       "VBox(children=(Label(value='Mouse: 668800'), DatePicker(value=datetime.date(2024, 9, 9), description='Watering…"
      ]
     },
     "metadata": {},
     "output_type": "display_data"
    },
    {
     "name": "stderr",
     "output_type": "stream",
     "text": [
      "INFO:aind_slims_api.core:SLIMS Add: Result/2366\n"
     ]
    },
    {
     "name": "stdout",
     "output_type": "stream",
     "text": [
      "12:26 | aind_slims_api.core | INFO | SLIMS Add: Result/2366\n"
     ]
    }
   ],
   "source": [
    "np_workflows.slims_waterlog_widget(\n",
    "    client,\n",
    "    mouse_id,\n",
    "    os.getenv('AIBS_RIG_ID')\n",
    ")"
   ]
  },
  {
   "cell_type": "code",
   "execution_count": null,
   "id": "3c2b0852",
   "metadata": {},
   "outputs": [],
   "source": []
  }
 ],
 "metadata": {
  "kernelspec": {
   "display_name": "Python 3 (ipykernel)",
   "language": "python",
   "name": "python3"
  },
  "language_info": {
   "codemirror_mode": {
    "name": "ipython",
    "version": 3
   },
   "file_extension": ".py",
   "mimetype": "text/x-python",
   "name": "python",
   "nbconvert_exporter": "python",
   "pygments_lexer": "ipython3",
   "version": "3.11.6"
  }
 },
 "nbformat": 4,
 "nbformat_minor": 5
}
